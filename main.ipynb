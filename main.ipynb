{
 "cells": [
  {
   "cell_type": "code",
   "execution_count": null,
   "metadata": {},
   "outputs": [],
   "source": [
    "'''\n",
    "Math\n",
    "Array\n",
    "String\n",
    "Binary Search\n",
    "TREE\n",
    "BT\n",
    "BST\n",
    "link list\n",
    "SORT\n",
    "que\n",
    "graph\n",
    "hash table\n",
    "'''"
   ]
  },
  {
   "cell_type": "code",
   "execution_count": 16,
   "metadata": {},
   "outputs": [],
   "source": [
    "guide = {1:\"I\",4:\"IV\",5:\"V\",9:\"IX\",10:\"X\",40:\"XL\",50:\"L\",90:\"XC\",100:\"C\",400:\"CD\",500:\"D\",900: \"CM\",1000:\"M\"}"
   ]
  },
  {
   "cell_type": "code",
   "execution_count": 9,
   "metadata": {},
   "outputs": [
    {
     "name": "stdout",
     "output_type": "stream",
     "text": [
      "1000\n",
      "500\n",
      "100\n",
      "50\n",
      "10\n",
      "5\n",
      "1\n"
     ]
    }
   ],
   "source": [
    "for i in reversed(guide):\n",
    "    print(i)"
   ]
  },
  {
   "cell_type": "code",
   "execution_count": 23,
   "metadata": {},
   "outputs": [
    {
     "name": "stdout",
     "output_type": "stream",
     "text": [
      "{'I': 1, 'IV': 4, 'V': 5, 'IX': 9, 'X': 10, 'XL': 40, 'L': 50, 'XC': 90, 'C': 100, 'CD': 400, 'D': 500, 'CM': 900, 'M': 1000}\n"
     ]
    }
   ],
   "source": [
    "list1= []\n",
    "list2=[]\n",
    "for i in guide:\n",
    "    list1.append(i)\n",
    "    list2.append(guide[i])\n",
    "\n",
    "dict1 = dict(zip(list2,list1))\n",
    "print(dict1)\n"
   ]
  },
  {
   "cell_type": "code",
   "execution_count": 23,
   "metadata": {},
   "outputs": [],
   "source": [
    "\n",
    "def multiply(num1: str, num2: str) -> str:\n",
    "    list_str = [\"0\",\"1\",\"2\",\"3\",\"4\",\"5\",\"6\",\"7\",\"8\",\"9\"]\n",
    "    \n",
    "    new_num1 =0\n",
    "    new_num2=0\n",
    "    \n",
    "    def make_num(x) -> int:\n",
    "        ''' convert str -> num'''\n",
    "        y=0\n",
    "        for i in x:\n",
    "            ind = list_str.index(i)\n",
    "            y= y*10 + ind\n",
    "        return y\n",
    "\n",
    "    new_num1 = make_num(num1)\n",
    "    new_num2 = make_num(num2)\n",
    "    print(new_num1, \" \", new_num2)\n",
    "\n",
    "    num3 = new_num1*new_num2\n",
    "    print(num3)\n",
    "\n",
    "    num_str = []\n",
    "\n",
    "    while num3!=0:\n",
    "        num_str.append(list_str[num3 % 10])\n",
    "        num3=num3 // 10\n",
    "\n",
    "    a = \"\".join(num_str[::-1])\n",
    "\n",
    "    return a\n",
    "    \n",
    "    "
   ]
  },
  {
   "cell_type": "code",
   "execution_count": 24,
   "metadata": {},
   "outputs": [
    {
     "name": "stdout",
     "output_type": "stream",
     "text": [
      "32   98\n",
      "3136\n"
     ]
    },
    {
     "data": {
      "text/plain": [
       "'3136'"
      ]
     },
     "execution_count": 24,
     "metadata": {},
     "output_type": "execute_result"
    }
   ],
   "source": [
    "multiply(\"32\",\"98\")"
   ]
  },
  {
   "cell_type": "code",
   "execution_count": 7,
   "metadata": {},
   "outputs": [
    {
     "data": {
      "text/plain": [
       "'321'"
      ]
     },
     "execution_count": 7,
     "metadata": {},
     "output_type": "execute_result"
    }
   ],
   "source": [
    "a = [\"1\",\"2\",\"3\"]\n",
    "\"\".join(a[::-1])"
   ]
  },
  {
   "cell_type": "code",
   "execution_count": null,
   "metadata": {},
   "outputs": [],
   "source": []
  }
 ],
 "metadata": {
  "kernelspec": {
   "display_name": "Python 3.10.5 ('desktop_env')",
   "language": "python",
   "name": "python3"
  },
  "language_info": {
   "codemirror_mode": {
    "name": "ipython",
    "version": 3
   },
   "file_extension": ".py",
   "mimetype": "text/x-python",
   "name": "python",
   "nbconvert_exporter": "python",
   "pygments_lexer": "ipython3",
   "version": "3.10.5"
  },
  "orig_nbformat": 4,
  "vscode": {
   "interpreter": {
    "hash": "b4dc6631ffef5a733ac58430eb0e8cf8f73f165587c4c3dfb32dbf0eaaadea6b"
   }
  }
 },
 "nbformat": 4,
 "nbformat_minor": 2
}
