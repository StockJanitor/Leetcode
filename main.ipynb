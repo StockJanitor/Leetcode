{
 "cells": [
  {
   "cell_type": "code",
   "execution_count": null,
   "metadata": {},
   "outputs": [],
   "source": [
    "'''\n",
    "Math\n",
    "Array\n",
    "String\n",
    "Binary Search\n",
    "TREE\n",
    "BT\n",
    "BST\n",
    "link list\n",
    "SORT\n",
    "que\n",
    "graph\n",
    "hash table\n",
    "'''"
   ]
  },
  {
   "cell_type": "code",
   "execution_count": 16,
   "metadata": {},
   "outputs": [],
   "source": [
    "guide = {1:\"I\",4:\"IV\",5:\"V\",9:\"IX\",10:\"X\",40:\"XL\",50:\"L\",90:\"XC\",100:\"C\",400:\"CD\",500:\"D\",900: \"CM\",1000:\"M\"}"
   ]
  },
  {
   "cell_type": "code",
   "execution_count": 9,
   "metadata": {},
   "outputs": [
    {
     "name": "stdout",
     "output_type": "stream",
     "text": [
      "1000\n",
      "500\n",
      "100\n",
      "50\n",
      "10\n",
      "5\n",
      "1\n"
     ]
    }
   ],
   "source": [
    "for i in reversed(guide):\n",
    "    print(i)"
   ]
  },
  {
   "cell_type": "code",
   "execution_count": 23,
   "metadata": {},
   "outputs": [
    {
     "name": "stdout",
     "output_type": "stream",
     "text": [
      "{'I': 1, 'IV': 4, 'V': 5, 'IX': 9, 'X': 10, 'XL': 40, 'L': 50, 'XC': 90, 'C': 100, 'CD': 400, 'D': 500, 'CM': 900, 'M': 1000}\n"
     ]
    }
   ],
   "source": [
    "list1= []\n",
    "list2=[]\n",
    "for i in guide:\n",
    "    list1.append(i)\n",
    "    list2.append(guide[i])\n",
    "\n",
    "dict1 = dict(zip(list2,list1))\n",
    "print(dict1)\n"
   ]
  },
  {
   "cell_type": "code",
   "execution_count": 22,
   "metadata": {},
   "outputs": [],
   "source": [
    "a = \"\"\n",
    "\n",
    "if a:\n",
    "   \n",
    "    print(\"1\")"
   ]
  },
  {
   "cell_type": "code",
   "execution_count": null,
   "metadata": {},
   "outputs": [],
   "source": [
    "\n",
    "def romanToInt(s: str) -> int:\n",
    "    guide = {'I': 1, 'IV': 4, 'V': 5, 'IX': 9, 'X': 10, 'XL': 40, 'L': 50, 'XC': 90, 'C': 100, 'CD': 400, 'D': 500, 'CM': 900, 'M': 1000}\n",
    "    \n",
    "    res = 0\n",
    "    \n",
    "    for i in range(len(s)):\n",
    "\n",
    "        # get the current number\n",
    "        current = s[i]\n",
    "        if i != len(s)-1:\n",
    "            nex = s[i+1]\n",
    "        print(current)\n",
    "\n",
    "        # if next number > current number, res add 900\n",
    "        if guide[nex] > guide[current]:\n",
    "            a = current+nex\n",
    "            res += guide[a]\n",
    "            i+2\n",
    "\n",
    "        else:\n",
    "            res+=guide[current]\n",
    "            \n",
    "    return res\n",
    "\n",
    "\n",
    "romanToInt(\"MCMXCIV\")\n"
   ]
  },
  {
   "cell_type": "code",
   "execution_count": 16,
   "metadata": {},
   "outputs": [],
   "source": [
    "s = \"MCMXCIV\"\n"
   ]
  },
  {
   "cell_type": "code",
   "execution_count": 17,
   "metadata": {},
   "outputs": [
    {
     "data": {
      "text/plain": [
       "['V', 'I', 'C', 'X', 'M', 'C', 'M']"
      ]
     },
     "execution_count": 17,
     "metadata": {},
     "output_type": "execute_result"
    }
   ],
   "source": [
    "s = [i for i in s][::-1]\n",
    "s"
   ]
  },
  {
   "cell_type": "code",
   "execution_count": 20,
   "metadata": {},
   "outputs": [],
   "source": [
    "s.remove(s[0])"
   ]
  },
  {
   "cell_type": "code",
   "execution_count": 11,
   "metadata": {},
   "outputs": [],
   "source": [
    "def romanToInt(s: str) -> int:\n",
    "    guide = {'I': 1, 'IV': 4, 'V': 5, 'IX': 9, 'X': 10, 'XL': 40, 'L': 50, 'XC': 90, 'C': 100, 'CD': 400, 'D': 500, 'CM': 900, 'M': 1000}\n",
    "    \n",
    "    s = [s for s in s][::-1]\n",
    "    \n",
    "    res = 0\n",
    "\n",
    "    while len(s) != 0:\n",
    "    \n",
    "        if len(s) != 1:\n",
    "            if guide[s[1]] < guide[s[0]]:\n",
    "                res += guide[s[1]+s[0]]\n",
    "                s.remove(s[1])\n",
    "                s.remove(s[0])\n",
    "            else:\n",
    "                res+=guide[s[0]]\n",
    "                s.remove(s[0])\n",
    "        else:\n",
    "            res+=guide[s[0]]\n",
    "            s.remove(s[0])\n",
    "    \n",
    "\n",
    "    return res"
   ]
  },
  {
   "cell_type": "code",
   "execution_count": 12,
   "metadata": {},
   "outputs": [
    {
     "name": "stdout",
     "output_type": "stream",
     "text": [
      "V\n",
      "['C', 'X', 'M', 'C', 'M']\n",
      "C\n",
      "['M', 'C', 'M']\n",
      "M\n",
      "['M']\n",
      "M\n",
      "[]\n"
     ]
    },
    {
     "data": {
      "text/plain": [
       "1994"
      ]
     },
     "execution_count": 12,
     "metadata": {},
     "output_type": "execute_result"
    }
   ],
   "source": [
    "romanToInt(\"MCMXCIV\")"
   ]
  },
  {
   "cell_type": "code",
   "execution_count": null,
   "metadata": {},
   "outputs": [],
   "source": []
  },
  {
   "cell_type": "code",
   "execution_count": null,
   "metadata": {},
   "outputs": [],
   "source": []
  }
 ],
 "metadata": {
  "kernelspec": {
   "display_name": "Python 3.9.7 64-bit",
   "language": "python",
   "name": "python3"
  },
  "language_info": {
   "codemirror_mode": {
    "name": "ipython",
    "version": 3
   },
   "file_extension": ".py",
   "mimetype": "text/x-python",
   "name": "python",
   "nbconvert_exporter": "python",
   "pygments_lexer": "ipython3",
   "version": "3.9.7"
  },
  "orig_nbformat": 4,
  "vscode": {
   "interpreter": {
    "hash": "ed845b49b681eb62f5a1cdba20cc015e4adaf1aeb07af979e25e8e4739ef094b"
   }
  }
 },
 "nbformat": 4,
 "nbformat_minor": 2
}
