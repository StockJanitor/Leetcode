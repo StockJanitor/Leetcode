{
 "cells": [
  {
   "cell_type": "code",
   "execution_count": null,
   "metadata": {},
   "outputs": [],
   "source": [
    "'''\n",
    "Math\n",
    "Array\n",
    "String\n",
    "Binary Search\n",
    "TREE\n",
    "BT\n",
    "BST\n",
    "link list\n",
    "SORT\n",
    "que\n",
    "graph\n",
    "hash table\n",
    "'''"
   ]
  },
  {
   "cell_type": "code",
   "execution_count": 29,
   "metadata": {},
   "outputs": [
    {
     "name": "stdout",
     "output_type": "stream",
     "text": [
      "when x is 2\n",
      "output is 2\n",
      "when x is 4\n",
      "output is 2\n",
      "when x is 16\n",
      "output is 32\n"
     ]
    },
    {
     "data": {
      "text/plain": [
       "32"
      ]
     },
     "execution_count": 29,
     "metadata": {},
     "output_type": "execute_result"
    }
   ],
   "source": [
    "def myPow(x,n):\n",
    "    output = 1\n",
    "    while n:\n",
    "        # print(n&1)\n",
    "        if n&1:\n",
    "            output *=x\n",
    "        n>>=1\n",
    "        print(f\"when x is {x}\")\n",
    "        print(f\"output is {output}\")\n",
    "        x*=x\n",
    "    return output\n",
    "myPow(2,5)"
   ]
  },
  {
   "cell_type": "code",
   "execution_count": null,
   "metadata": {},
   "outputs": [],
   "source": []
  }
 ],
 "metadata": {
  "kernelspec": {
   "display_name": "Python 3.10.5 ('desktop_env')",
   "language": "python",
   "name": "python3"
  },
  "language_info": {
   "codemirror_mode": {
    "name": "ipython",
    "version": 3
   },
   "file_extension": ".py",
   "mimetype": "text/x-python",
   "name": "python",
   "nbconvert_exporter": "python",
   "pygments_lexer": "ipython3",
   "version": "3.10.5"
  },
  "orig_nbformat": 4,
  "vscode": {
   "interpreter": {
    "hash": "b4dc6631ffef5a733ac58430eb0e8cf8f73f165587c4c3dfb32dbf0eaaadea6b"
   }
  }
 },
 "nbformat": 4,
 "nbformat_minor": 2
}
