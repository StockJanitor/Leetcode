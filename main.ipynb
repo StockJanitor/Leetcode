{
 "cells": [
  {
   "cell_type": "code",
   "execution_count": null,
   "metadata": {},
   "outputs": [],
   "source": [
    "'''\n",
    "Math\n",
    "Array\n",
    "String\n",
    "Binary Search\n",
    "TREE\n",
    "BT\n",
    "BST\n",
    "link list\n",
    "SORT\n",
    "que\n",
    "graph\n",
    "hash table\n",
    "'''"
   ]
  },
  {
   "cell_type": "code",
   "execution_count": 16,
   "metadata": {},
   "outputs": [],
   "source": [
    "guide = {1:\"I\",4:\"IV\",5:\"V\",9:\"IX\",10:\"X\",40:\"XL\",50:\"L\",90:\"XC\",100:\"C\",400:\"CD\",500:\"D\",900: \"CM\",1000:\"M\"}"
   ]
  },
  {
   "cell_type": "code",
   "execution_count": 9,
   "metadata": {},
   "outputs": [
    {
     "name": "stdout",
     "output_type": "stream",
     "text": [
      "1000\n",
      "500\n",
      "100\n",
      "50\n",
      "10\n",
      "5\n",
      "1\n"
     ]
    }
   ],
   "source": [
    "for i in reversed(guide):\n",
    "    print(i)"
   ]
  },
  {
   "cell_type": "code",
   "execution_count": 23,
   "metadata": {},
   "outputs": [
    {
     "name": "stdout",
     "output_type": "stream",
     "text": [
      "{'I': 1, 'IV': 4, 'V': 5, 'IX': 9, 'X': 10, 'XL': 40, 'L': 50, 'XC': 90, 'C': 100, 'CD': 400, 'D': 500, 'CM': 900, 'M': 1000}\n"
     ]
    }
   ],
   "source": [
    "list1= []\n",
    "list2=[]\n",
    "for i in guide:\n",
    "    list1.append(i)\n",
    "    list2.append(guide[i])\n",
    "\n",
    "dict1 = dict(zip(list2,list1))\n",
    "print(dict1)\n"
   ]
  },
  {
   "cell_type": "code",
   "execution_count": 22,
   "metadata": {},
   "outputs": [],
   "source": [
    "a = \"\"\n",
    "\n",
    "if a:\n",
    "   \n",
    "    print(\"1\")"
   ]
  },
  {
   "cell_type": "code",
   "execution_count": null,
   "metadata": {},
   "outputs": [],
   "source": [
    "\n",
    "def romanToInt(s: str) -> int:\n",
    "    guide = {'I': 1, 'IV': 4, 'V': 5, 'IX': 9, 'X': 10, 'XL': 40, 'L': 50, 'XC': 90, 'C': 100, 'CD': 400, 'D': 500, 'CM': 900, 'M': 1000}\n",
    "    \n",
    "    res = 0\n",
    "    \n",
    "    for i in range(len(s)):\n",
    "\n",
    "        # get the current number\n",
    "        current = s[i]\n",
    "        if i != len(s)-1:\n",
    "            nex = s[i+1]\n",
    "        print(current)\n",
    "\n",
    "        # if next number > current number, res add 900\n",
    "        if guide[nex] > guide[current]:\n",
    "            a = current+nex\n",
    "            res += guide[a]\n",
    "            i+2\n",
    "\n",
    "        else:\n",
    "            res+=guide[current]\n",
    "            \n",
    "    return res\n",
    "\n",
    "\n",
    "romanToInt(\"MCMXCIV\")\n"
   ]
  },
  {
   "cell_type": "code",
   "execution_count": 28,
   "metadata": {},
   "outputs": [
    {
     "data": {
      "text/plain": [
       "['M', 'C', 'M', 'X', 'C', 'I', 'V']"
      ]
     },
     "execution_count": 28,
     "metadata": {},
     "output_type": "execute_result"
    }
   ],
   "source": [
    "s = \"MCMXCIV\"\n",
    "[s for s in s]"
   ]
  },
  {
   "cell_type": "code",
   "execution_count": 29,
   "metadata": {},
   "outputs": [
    {
     "data": {
      "text/plain": [
       "'MCMXCIV'"
      ]
     },
     "execution_count": 29,
     "metadata": {},
     "output_type": "execute_result"
    }
   ],
   "source": [
    "s"
   ]
  },
  {
   "cell_type": "code",
   "execution_count": null,
   "metadata": {},
   "outputs": [],
   "source": []
  }
 ],
 "metadata": {
  "kernelspec": {
   "display_name": "Python 3.10.5 ('desktop_env')",
   "language": "python",
   "name": "python3"
  },
  "language_info": {
   "codemirror_mode": {
    "name": "ipython",
    "version": 3
   },
   "file_extension": ".py",
   "mimetype": "text/x-python",
   "name": "python",
   "nbconvert_exporter": "python",
   "pygments_lexer": "ipython3",
   "version": "3.10.5"
  },
  "orig_nbformat": 4,
  "vscode": {
   "interpreter": {
    "hash": "b4dc6631ffef5a733ac58430eb0e8cf8f73f165587c4c3dfb32dbf0eaaadea6b"
   }
  }
 },
 "nbformat": 4,
 "nbformat_minor": 2
}
